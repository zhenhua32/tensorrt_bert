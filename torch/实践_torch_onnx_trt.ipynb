{
 "cells": [
  {
   "attachments": {},
   "cell_type": "markdown",
   "metadata": {},
   "source": [
    "# 转换模型\n",
    "\n",
    "TODO: 没有动态的维度支持, 有个报错, 只有将 batch_size 设置为 1\n",
    "\n",
    "```bash\n",
    "[01/04/2023-04:21:30] [TRT] [E] 10: [optimizer.cpp::computeCosts::2011] Error Code 10: Internal Error (Could not find any implementation for node {ForeignNode[bert.embeddings.position_embeddings.weight.../cls/predictions/decoder/Add]}.)\n",
    "[01/04/2023-04:21:30] [TRT] [E] 2: [builder.cpp::buildSerializedNetwork::609] Error Code 2: Internal Error (Assertion enginePtr != nullptr failed. )\n",
    "```\n",
    "\n",
    "!polygraphy convert ./onnx/model.onnx --convert-to trt -o ./onnx/model.trt --model-type onnx \\\n",
    "\t--trt-min-shapes input_ids:[1,128] attention_mask:[1,128] token_type_ids:[1,128] \\\n",
    "\t--trt-opt-shapes input_ids:[1,128] attention_mask:[1,128] token_type_ids:[1,128] \\\n",
    "\t--trt-max-shapes input_ids:[1,128] attention_mask:[1,128] token_type_ids:[1,128] "
   ]
  },
  {
   "attachments": {},
   "cell_type": "markdown",
   "metadata": {},
   "source": [
    "https://github.com/NVIDIA/TensorRT/tree/main/tools/Polygraphy#command-line-toolkit\n",
    "\n",
    "polygraphy 工具在 TensorRT 仓库下, 如果你安装了 tensorrt 的 python 包, 应该就能找到\n",
    "\n",
    "/opt/conda/bin/polygraphy"
   ]
  },
  {
   "cell_type": "code",
   "execution_count": null,
   "metadata": {},
   "outputs": [],
   "source": [
    "import tensorrt as trt\n",
    "from tensorrt.tensorrt import Logger, Runtime\n",
    "\n",
    "import os\n",
    "import sys\n",
    "sys.path.append(\"./transformer-deploy/src/\")\n",
    "\n",
    "from transformer_deploy.backends.trt_utils import build_engine, load_engine"
   ]
  },
  {
   "cell_type": "code",
   "execution_count": null,
   "metadata": {},
   "outputs": [],
   "source": [
    "trt_logger: Logger = trt.Logger(trt.Logger.ERROR)\n",
    "runtime: Runtime = trt.Runtime(trt_logger)\n",
    "profile_index = 0\n",
    "max_seq_len = 128\n",
    "batch_size = 4"
   ]
  },
  {
   "cell_type": "code",
   "execution_count": null,
   "metadata": {},
   "outputs": [],
   "source": [
    "tensorrt_model = load_engine(\n",
    "    runtime=runtime,\n",
    "    engine_file_path=\"./onnx/model.trt\",\n",
    "    profile_index=profile_index,\n",
    ")"
   ]
  },
  {
   "cell_type": "code",
   "execution_count": null,
   "metadata": {},
   "outputs": [],
   "source": [
    "import torch\n",
    "import numpy\n",
    "from transformers import BertTokenizer\n",
    "enc = BertTokenizer.from_pretrained('bert-base-uncased')\n",
    "\n",
    "masked_sentences = [\n",
    "    # 'Paris is the [MASK] of France.', \n",
    "    # 'The primary [MASK] of the United States is English.', \n",
    "    'A baseball game consists of at least nine [MASK].', \n",
    "    # 'Topology is a branch of [MASK] concerned with the properties of geometric objects that remain unchanged under continuous transformations.'\n",
    "]\n",
    "pos_masks = [4, 3, 9, 6]\n",
    "\n",
    "inputs = enc(masked_sentences, return_tensors=\"pt\", padding='max_length', max_length=128, truncation=True)\n",
    "print(inputs.keys())\n",
    "\n",
    "result = tensorrt_model(inputs)\n",
    "print(type(result))\n",
    "print(len(result))\n",
    "print(result[0].shape)\n",
    "print(result[0])"
   ]
  },
  {
   "cell_type": "code",
   "execution_count": null,
   "metadata": {},
   "outputs": [],
   "source": [
    "# TODO: 还是不行, 输出的结果不对. 好像每个输出的结果都是一样的"
   ]
  }
 ],
 "metadata": {
  "language_info": {
   "name": "python"
  },
  "orig_nbformat": 4
 },
 "nbformat": 4,
 "nbformat_minor": 2
}
